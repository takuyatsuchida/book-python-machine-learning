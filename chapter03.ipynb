{
 "cells": [
  {
   "cell_type": "markdown",
   "source": [
    "# Chapter 3 Manipulating Tabular Data Using Pandas"
   ],
   "metadata": {
    "collapsed": false
   }
  },
  {
   "cell_type": "markdown",
   "source": [
    "## Pandas Series"
   ],
   "metadata": {
    "collapsed": false
   }
  },
  {
   "cell_type": "code",
   "execution_count": 1,
   "outputs": [
    {
     "name": "stdout",
     "output_type": "stream",
     "text": [
      "0    1\n",
      "1    2\n",
      "2    3\n",
      "3    4\n",
      "4    5\n",
      "dtype: int64\n"
     ]
    }
   ],
   "source": [
    "import pandas as pd\n",
    "series = pd.Series([1, 2, 3, 4, 5])\n",
    "print(series)"
   ],
   "metadata": {
    "collapsed": false
   }
  },
  {
   "cell_type": "markdown",
   "source": [
    "### Creating a Series Using a Specified Index"
   ],
   "metadata": {
    "collapsed": false
   }
  },
  {
   "cell_type": "code",
   "execution_count": 2,
   "outputs": [
    {
     "name": "stdout",
     "output_type": "stream",
     "text": [
      "a    1\n",
      "b    2\n",
      "c    3\n",
      "d    4\n",
      "c    5\n",
      "dtype: int64\n"
     ]
    }
   ],
   "source": [
    "series = pd.Series([1, 2, 3, 4, 5], index=['a', 'b', 'c', 'd', 'c'])\n",
    "print(series)"
   ],
   "metadata": {
    "collapsed": false
   }
  },
  {
   "cell_type": "markdown",
   "source": [
    "### Accessing Elements in a Series"
   ],
   "metadata": {
    "collapsed": false
   }
  },
  {
   "cell_type": "code",
   "execution_count": 3,
   "outputs": [
    {
     "name": "stdout",
     "output_type": "stream",
     "text": [
      "3\n"
     ]
    }
   ],
   "source": [
    "print(series[2])"
   ],
   "metadata": {
    "collapsed": false
   }
  },
  {
   "cell_type": "code",
   "execution_count": 4,
   "outputs": [
    {
     "name": "stdout",
     "output_type": "stream",
     "text": [
      "3\n"
     ]
    }
   ],
   "source": [
    "print(series.iloc[2])"
   ],
   "metadata": {
    "collapsed": false
   }
  },
  {
   "cell_type": "code",
   "execution_count": 5,
   "outputs": [
    {
     "name": "stdout",
     "output_type": "stream",
     "text": [
      "4\n"
     ]
    }
   ],
   "source": [
    "print(series['d'])"
   ],
   "metadata": {
    "collapsed": false
   }
  },
  {
   "cell_type": "code",
   "execution_count": 6,
   "outputs": [
    {
     "name": "stdout",
     "output_type": "stream",
     "text": [
      "4\n"
     ]
    }
   ],
   "source": [
    "print(series.loc['d'])"
   ],
   "metadata": {
    "collapsed": false
   }
  },
  {
   "cell_type": "code",
   "execution_count": 7,
   "outputs": [
    {
     "name": "stdout",
     "output_type": "stream",
     "text": [
      "c    3\n",
      "c    5\n",
      "dtype: int64\n"
     ]
    }
   ],
   "source": [
    "print(series['c'])"
   ],
   "metadata": {
    "collapsed": false
   }
  },
  {
   "cell_type": "code",
   "execution_count": 8,
   "outputs": [
    {
     "name": "stdout",
     "output_type": "stream",
     "text": [
      "c    3\n",
      "d    4\n",
      "c    5\n",
      "dtype: int64\n"
     ]
    }
   ],
   "source": [
    "print(series[2:])"
   ],
   "metadata": {
    "collapsed": false
   }
  },
  {
   "cell_type": "code",
   "execution_count": 9,
   "outputs": [
    {
     "name": "stdout",
     "output_type": "stream",
     "text": [
      "c    3\n",
      "d    4\n",
      "c    5\n",
      "dtype: int64\n"
     ]
    }
   ],
   "source": [
    "print(series.iloc[2:])"
   ],
   "metadata": {
    "collapsed": false
   }
  },
  {
   "cell_type": "markdown",
   "source": [
    "### Specifying a Datetime Range as the Index of a Series"
   ],
   "metadata": {
    "collapsed": false
   }
  },
  {
   "cell_type": "code",
   "execution_count": 10,
   "outputs": [
    {
     "name": "stdout",
     "output_type": "stream",
     "text": [
      "DatetimeIndex(['2019-05-25', '2019-05-26', '2019-05-27', '2019-05-28',\n",
      "               '2019-05-29', '2019-05-30', '2019-05-31', '2019-06-01',\n",
      "               '2019-06-02', '2019-06-03', '2019-06-04', '2019-06-05'],\n",
      "              dtype='datetime64[ns]', freq='D')\n"
     ]
    }
   ],
   "source": [
    "dates1 = pd.date_range('20190525', periods=12)\n",
    "print(dates1)"
   ],
   "metadata": {
    "collapsed": false
   }
  },
  {
   "cell_type": "code",
   "execution_count": 11,
   "outputs": [
    {
     "name": "stdout",
     "output_type": "stream",
     "text": [
      "2019-05-25     1\n",
      "2019-05-26     2\n",
      "2019-05-27     3\n",
      "2019-05-28     4\n",
      "2019-05-29     5\n",
      "2019-05-30     6\n",
      "2019-05-31     7\n",
      "2019-06-01     8\n",
      "2019-06-02     9\n",
      "2019-06-03    10\n",
      "2019-06-04    11\n",
      "2019-06-05    12\n",
      "Freq: D, dtype: int64\n"
     ]
    }
   ],
   "source": [
    "series = pd.Series([1, 2, 3, 4, 5, 6, 7, 8, 9, 10, 11, 12])\n",
    "series.index = dates1\n",
    "print(series)"
   ],
   "metadata": {
    "collapsed": false
   }
  },
  {
   "cell_type": "markdown",
   "source": [
    "### Date Ranges"
   ],
   "metadata": {
    "collapsed": false
   }
  },
  {
   "cell_type": "code",
   "execution_count": 12,
   "outputs": [
    {
     "name": "stdout",
     "output_type": "stream",
     "text": [
      "DatetimeIndex(['2019-05-31', '2019-06-30', '2019-07-31', '2019-08-31',\n",
      "               '2019-09-30', '2019-10-31', '2019-11-30', '2019-12-31',\n",
      "               '2020-01-31', '2020-02-29', '2020-03-31', '2020-04-30'],\n",
      "              dtype='datetime64[ns]', freq='M')\n"
     ]
    }
   ],
   "source": [
    "dates2 = pd.date_range('2019-05-01', periods=12, freq='M')\n",
    "print(dates2)"
   ],
   "metadata": {
    "collapsed": false
   }
  },
  {
   "cell_type": "code",
   "execution_count": 13,
   "outputs": [
    {
     "name": "stdout",
     "output_type": "stream",
     "text": [
      "DatetimeIndex(['2019-05-01', '2019-06-01', '2019-07-01', '2019-08-01',\n",
      "               '2019-09-01', '2019-10-01', '2019-11-01', '2019-12-01',\n",
      "               '2020-01-01', '2020-02-01', '2020-03-01', '2020-04-01'],\n",
      "              dtype='datetime64[ns]', freq='MS')\n"
     ]
    }
   ],
   "source": [
    "dates2 = pd.date_range('2019-05-01', periods=12, freq='MS')\n",
    "print(dates2)"
   ],
   "metadata": {
    "collapsed": false
   }
  },
  {
   "cell_type": "code",
   "execution_count": 14,
   "outputs": [
    {
     "name": "stdout",
     "output_type": "stream",
     "text": [
      "DatetimeIndex(['2019-05-01', '2019-06-01', '2019-07-01', '2019-08-01',\n",
      "               '2019-09-01', '2019-10-01', '2019-11-01', '2019-12-01',\n",
      "               '2020-01-01', '2020-02-01', '2020-03-01', '2020-04-01'],\n",
      "              dtype='datetime64[ns]', freq='MS')\n"
     ]
    }
   ],
   "source": [
    "dates2 = pd.date_range('05-01-2019', periods=12, freq='MS')\n",
    "print(dates2)"
   ],
   "metadata": {
    "collapsed": false
   }
  },
  {
   "cell_type": "code",
   "execution_count": 15,
   "outputs": [
    {
     "name": "stdout",
     "output_type": "stream",
     "text": [
      "DatetimeIndex(['2019-05-17 09:00:00', '2019-05-17 10:00:00',\n",
      "               '2019-05-17 11:00:00', '2019-05-17 12:00:00',\n",
      "               '2019-05-17 13:00:00', '2019-05-17 14:00:00',\n",
      "               '2019-05-17 15:00:00', '2019-05-17 16:00:00'],\n",
      "              dtype='datetime64[ns]', freq='H')\n"
     ]
    }
   ],
   "source": [
    "dates3 = pd.date_range('2019/05/17 09:00:00', periods=8, freq='H')\n",
    "print(dates3)"
   ],
   "metadata": {
    "collapsed": false
   }
  },
  {
   "cell_type": "markdown",
   "source": [
    "## Pandas DataFrame"
   ],
   "metadata": {
    "collapsed": false
   }
  },
  {
   "cell_type": "markdown",
   "source": [
    "### Creating a DataFrame"
   ],
   "metadata": {
    "collapsed": false
   }
  },
  {
   "cell_type": "code",
   "execution_count": 16,
   "outputs": [
    {
     "name": "stdout",
     "output_type": "stream",
     "text": [
      "          A         B         C         D\n",
      "0  0.969407 -2.075703 -0.893038  0.507954\n",
      "1 -0.298634  0.974284  0.245552  1.462103\n",
      "2 -0.457831  0.602236  0.087346  0.403122\n",
      "3 -0.350122 -0.055766 -1.702739 -0.654761\n",
      "4 -0.870128  0.821979  0.938408 -1.041905\n",
      "5 -1.823805 -1.366235 -0.291750  0.509917\n",
      "6  0.342734  0.267642  2.043463 -1.327063\n",
      "7  1.009468 -1.285898 -0.540047  0.223683\n",
      "8  1.873665 -1.233378 -0.042731  0.830141\n",
      "9  2.093382 -2.492571 -0.824354 -0.507305\n"
     ]
    }
   ],
   "source": [
    "import pandas as pd\n",
    "import numpy as np\n",
    "\n",
    "df = pd.DataFrame(np.random.randn(10, 4), columns=list('ABCD'))\n",
    "print(df)"
   ],
   "metadata": {
    "collapsed": false
   }
  },
  {
   "cell_type": "code",
   "execution_count": 17,
   "outputs": [],
   "source": [
    "df = pd.read_csv('data.csv')"
   ],
   "metadata": {
    "collapsed": false
   }
  },
  {
   "cell_type": "markdown",
   "source": [
    "### Specifying the Index in a DataFrame"
   ],
   "metadata": {
    "collapsed": false
   }
  },
  {
   "cell_type": "code",
   "execution_count": 18,
   "outputs": [
    {
     "name": "stdout",
     "output_type": "stream",
     "text": [
      "                   A         B         C         D\n",
      "2019-05-25  0.187497  1.122150 -0.988277 -1.985934\n",
      "2019-05-26  0.360803 -0.562243 -0.340693 -0.986988\n",
      "2019-05-27 -0.040627  0.067333 -0.452978  0.686223\n",
      "2019-05-28 -0.279572 -0.702492  0.252265  0.958977\n",
      "2019-05-29  0.537438 -1.737568  0.714727 -0.939288\n",
      "2019-05-30  0.070011 -0.516443 -1.655689  0.246721\n",
      "2019-05-31  0.001268  0.951517  2.107360 -0.108726\n",
      "2019-06-01 -0.185258  0.856520 -0.686285  1.104195\n",
      "2019-06-02  0.387023  1.706336 -2.452653  0.260466\n",
      "2019-06-03 -1.054974  0.556775 -0.945219 -0.030295\n"
     ]
    }
   ],
   "source": [
    "df = pd.read_csv('data.csv')\n",
    "days = pd.date_range('20190525', periods=10)\n",
    "df.index = days\n",
    "print(df)"
   ],
   "metadata": {
    "collapsed": false
   }
  },
  {
   "cell_type": "code",
   "execution_count": 19,
   "outputs": [
    {
     "name": "stdout",
     "output_type": "stream",
     "text": [
      "DatetimeIndex(['2019-05-25', '2019-05-26', '2019-05-27', '2019-05-28',\n",
      "               '2019-05-29', '2019-05-30', '2019-05-31', '2019-06-01',\n",
      "               '2019-06-02', '2019-06-03'],\n",
      "              dtype='datetime64[ns]', freq='D')\n"
     ]
    }
   ],
   "source": [
    "print(df.index)"
   ],
   "metadata": {
    "collapsed": false
   }
  },
  {
   "cell_type": "code",
   "execution_count": 20,
   "outputs": [
    {
     "name": "stdout",
     "output_type": "stream",
     "text": [
      "[[ 1.874970e-01  1.122150e+00 -9.882770e-01 -1.985934e+00]\n",
      " [ 3.608030e-01 -5.622430e-01 -3.406930e-01 -9.869880e-01]\n",
      " [-4.062700e-02  6.733300e-02 -4.529780e-01  6.862230e-01]\n",
      " [-2.795720e-01 -7.024920e-01  2.522650e-01  9.589770e-01]\n",
      " [ 5.374380e-01 -1.737568e+00  7.147270e-01 -9.392880e-01]\n",
      " [ 7.001100e-02 -5.164430e-01 -1.655689e+00  2.467210e-01]\n",
      " [ 1.268000e-03  9.515170e-01  2.107360e+00 -1.087260e-01]\n",
      " [-1.852580e-01  8.565200e-01 -6.862850e-01  1.104195e+00]\n",
      " [ 3.870230e-01  1.706336e+00 -2.452653e+00  2.604660e-01]\n",
      " [-1.054974e+00  5.567750e-01 -9.452190e-01 -3.029500e-02]]\n"
     ]
    }
   ],
   "source": [
    "print(df.values)"
   ],
   "metadata": {
    "collapsed": false
   }
  },
  {
   "cell_type": "markdown",
   "source": [
    "### Generating Descriptive Statistics on the DataFrame"
   ],
   "metadata": {
    "collapsed": false
   }
  },
  {
   "cell_type": "code",
   "execution_count": 21,
   "outputs": [
    {
     "name": "stdout",
     "output_type": "stream",
     "text": [
      "               A          B          C          D\n",
      "count  10.000000  10.000000  10.000000  10.000000\n",
      "mean   -0.001639   0.174188  -0.444744  -0.079465\n",
      "std     0.451656   1.049677   1.267397   0.971164\n",
      "min    -1.054974  -1.737568  -2.452653  -1.985934\n",
      "25%    -0.149100  -0.550793  -0.977513  -0.731648\n",
      "50%     0.035640   0.312054  -0.569632   0.108213\n",
      "75%     0.317476   0.927768   0.104025   0.579784\n",
      "max     0.537438   1.706336   2.107360   1.104195\n"
     ]
    }
   ],
   "source": [
    "print(df.describe())"
   ],
   "metadata": {
    "collapsed": false
   }
  },
  {
   "cell_type": "code",
   "execution_count": 22,
   "outputs": [
    {
     "name": "stdout",
     "output_type": "stream",
     "text": [
      "A   -0.001639\n",
      "B    0.174188\n",
      "C   -0.444744\n",
      "D   -0.079465\n",
      "dtype: float64\n"
     ]
    }
   ],
   "source": [
    "print(df.mean(0))"
   ],
   "metadata": {
    "collapsed": false
   }
  },
  {
   "cell_type": "code",
   "execution_count": 23,
   "outputs": [
    {
     "name": "stdout",
     "output_type": "stream",
     "text": [
      "2019-05-25   -0.416141\n",
      "2019-05-26   -0.382280\n",
      "2019-05-27    0.064988\n",
      "2019-05-28    0.057294\n",
      "2019-05-29   -0.356173\n",
      "2019-05-30   -0.463850\n",
      "2019-05-31    0.737855\n",
      "2019-06-01    0.272293\n",
      "2019-06-02   -0.024707\n",
      "2019-06-03   -0.368428\n",
      "Freq: D, dtype: float64\n"
     ]
    }
   ],
   "source": [
    "print(df.mean(1))"
   ],
   "metadata": {
    "collapsed": false
   }
  },
  {
   "cell_type": "markdown",
   "source": [
    "### Extracting from DataFrames"
   ],
   "metadata": {
    "collapsed": false
   }
  },
  {
   "cell_type": "markdown",
   "source": [
    "#### Selecting the First and Last Five Rows"
   ],
   "metadata": {
    "collapsed": false
   }
  },
  {
   "cell_type": "code",
   "execution_count": 24,
   "outputs": [
    {
     "name": "stdout",
     "output_type": "stream",
     "text": [
      "                   A         B         C         D\n",
      "2019-05-25  0.187497  1.122150 -0.988277 -1.985934\n",
      "2019-05-26  0.360803 -0.562243 -0.340693 -0.986988\n",
      "2019-05-27 -0.040627  0.067333 -0.452978  0.686223\n",
      "2019-05-28 -0.279572 -0.702492  0.252265  0.958977\n",
      "2019-05-29  0.537438 -1.737568  0.714727 -0.939288\n"
     ]
    }
   ],
   "source": [
    "print(df.head())"
   ],
   "metadata": {
    "collapsed": false
   }
  },
  {
   "cell_type": "code",
   "execution_count": 25,
   "outputs": [
    {
     "name": "stdout",
     "output_type": "stream",
     "text": [
      "                   A         B         C         D\n",
      "2019-05-25  0.187497  1.122150 -0.988277 -1.985934\n",
      "2019-05-26  0.360803 -0.562243 -0.340693 -0.986988\n",
      "2019-05-27 -0.040627  0.067333 -0.452978  0.686223\n",
      "2019-05-28 -0.279572 -0.702492  0.252265  0.958977\n",
      "2019-05-29  0.537438 -1.737568  0.714727 -0.939288\n",
      "2019-05-30  0.070011 -0.516443 -1.655689  0.246721\n",
      "2019-05-31  0.001268  0.951517  2.107360 -0.108726\n",
      "2019-06-01 -0.185258  0.856520 -0.686285  1.104195\n"
     ]
    }
   ],
   "source": [
    "print(df.head(8))"
   ],
   "metadata": {
    "collapsed": false
   }
  },
  {
   "cell_type": "code",
   "execution_count": 26,
   "outputs": [
    {
     "name": "stdout",
     "output_type": "stream",
     "text": [
      "                   A         B         C         D\n",
      "2019-05-30  0.070011 -0.516443 -1.655689  0.246721\n",
      "2019-05-31  0.001268  0.951517  2.107360 -0.108726\n",
      "2019-06-01 -0.185258  0.856520 -0.686285  1.104195\n",
      "2019-06-02  0.387023  1.706336 -2.452653  0.260466\n",
      "2019-06-03 -1.054974  0.556775 -0.945219 -0.030295\n"
     ]
    }
   ],
   "source": [
    "print(df.tail())"
   ],
   "metadata": {
    "collapsed": false
   }
  },
  {
   "cell_type": "code",
   "execution_count": 27,
   "outputs": [
    {
     "name": "stdout",
     "output_type": "stream",
     "text": [
      "                   A         B         C         D\n",
      "2019-05-27 -0.040627  0.067333 -0.452978  0.686223\n",
      "2019-05-28 -0.279572 -0.702492  0.252265  0.958977\n",
      "2019-05-29  0.537438 -1.737568  0.714727 -0.939288\n",
      "2019-05-30  0.070011 -0.516443 -1.655689  0.246721\n",
      "2019-05-31  0.001268  0.951517  2.107360 -0.108726\n",
      "2019-06-01 -0.185258  0.856520 -0.686285  1.104195\n",
      "2019-06-02  0.387023  1.706336 -2.452653  0.260466\n",
      "2019-06-03 -1.054974  0.556775 -0.945219 -0.030295\n"
     ]
    }
   ],
   "source": [
    "print(df.tail(8))"
   ],
   "metadata": {
    "collapsed": false
   }
  },
  {
   "cell_type": "markdown",
   "source": [
    "#### Selecting a Specific Column in a DataFrame"
   ],
   "metadata": {
    "collapsed": false
   }
  },
  {
   "cell_type": "code",
   "execution_count": 28,
   "outputs": [
    {
     "name": "stdout",
     "output_type": "stream",
     "text": [
      "2019-05-25    0.187497\n",
      "2019-05-26    0.360803\n",
      "2019-05-27   -0.040627\n",
      "2019-05-28   -0.279572\n",
      "2019-05-29    0.537438\n",
      "2019-05-30    0.070011\n",
      "2019-05-31    0.001268\n",
      "2019-06-01   -0.185258\n",
      "2019-06-02    0.387023\n",
      "2019-06-03   -1.054974\n",
      "Freq: D, Name: A, dtype: float64\n"
     ]
    }
   ],
   "source": [
    "print(df['A'])"
   ],
   "metadata": {
    "collapsed": false
   }
  },
  {
   "cell_type": "code",
   "execution_count": 29,
   "outputs": [
    {
     "name": "stdout",
     "output_type": "stream",
     "text": [
      "2019-05-25    0.187497\n",
      "2019-05-26    0.360803\n",
      "2019-05-27   -0.040627\n",
      "2019-05-28   -0.279572\n",
      "2019-05-29    0.537438\n",
      "2019-05-30    0.070011\n",
      "2019-05-31    0.001268\n",
      "2019-06-01   -0.185258\n",
      "2019-06-02    0.387023\n",
      "2019-06-03   -1.054974\n",
      "Freq: D, Name: A, dtype: float64\n"
     ]
    }
   ],
   "source": [
    "print(df.A)"
   ],
   "metadata": {
    "collapsed": false
   }
  },
  {
   "cell_type": "code",
   "execution_count": 30,
   "outputs": [
    {
     "name": "stdout",
     "output_type": "stream",
     "text": [
      "                   A         B\n",
      "2019-05-25  0.187497  1.122150\n",
      "2019-05-26  0.360803 -0.562243\n",
      "2019-05-27 -0.040627  0.067333\n",
      "2019-05-28 -0.279572 -0.702492\n",
      "2019-05-29  0.537438 -1.737568\n",
      "2019-05-30  0.070011 -0.516443\n",
      "2019-05-31  0.001268  0.951517\n",
      "2019-06-01 -0.185258  0.856520\n",
      "2019-06-02  0.387023  1.706336\n",
      "2019-06-03 -1.054974  0.556775\n"
     ]
    }
   ],
   "source": [
    "print(df[['A', 'B']])"
   ],
   "metadata": {
    "collapsed": false
   }
  },
  {
   "cell_type": "markdown",
   "source": [
    "#### Slicing Based on Row Number"
   ],
   "metadata": {
    "collapsed": false
   }
  },
  {
   "cell_type": "code",
   "execution_count": 31,
   "outputs": [
    {
     "name": "stdout",
     "output_type": "stream",
     "text": [
      "                   A         B         C         D\n",
      "2019-05-27 -0.040627  0.067333 -0.452978  0.686223\n",
      "2019-05-28 -0.279572 -0.702492  0.252265  0.958977\n"
     ]
    }
   ],
   "source": [
    "print(df[2:4])"
   ],
   "metadata": {
    "collapsed": false
   }
  },
  {
   "cell_type": "code",
   "execution_count": 32,
   "outputs": [
    {
     "name": "stdout",
     "output_type": "stream",
     "text": [
      "                   A         B         C         D\n",
      "2019-05-27 -0.040627  0.067333 -0.452978  0.686223\n",
      "2019-05-28 -0.279572 -0.702492  0.252265  0.958977\n"
     ]
    }
   ],
   "source": [
    "print(df.iloc[2:4])"
   ],
   "metadata": {
    "collapsed": false
   }
  },
  {
   "cell_type": "code",
   "execution_count": 33,
   "outputs": [
    {
     "name": "stdout",
     "output_type": "stream",
     "text": [
      "                   A         B         C         D\n",
      "2019-05-27 -0.040627  0.067333 -0.452978  0.686223\n",
      "2019-05-29  0.537438 -1.737568  0.714727 -0.939288\n"
     ]
    }
   ],
   "source": [
    "print(df.iloc[[2, 4]])"
   ],
   "metadata": {
    "collapsed": false
   }
  },
  {
   "cell_type": "code",
   "execution_count": 34,
   "outputs": [],
   "source": [
    "# Error\n",
    "#print(df[[2, 4]])"
   ],
   "metadata": {
    "collapsed": false
   }
  },
  {
   "cell_type": "code",
   "execution_count": 35,
   "outputs": [
    {
     "name": "stdout",
     "output_type": "stream",
     "text": [
      "A   -0.040627\n",
      "B    0.067333\n",
      "C   -0.452978\n",
      "D    0.686223\n",
      "Name: 2019-05-27 00:00:00, dtype: float64\n"
     ]
    }
   ],
   "source": [
    "print(df.iloc[2])"
   ],
   "metadata": {
    "collapsed": false
   }
  },
  {
   "cell_type": "markdown",
   "source": [
    "#### Slicing Based on Row and Column Numbers"
   ],
   "metadata": {
    "collapsed": false
   }
  },
  {
   "cell_type": "code",
   "execution_count": 36,
   "outputs": [
    {
     "name": "stdout",
     "output_type": "stream",
     "text": [
      "                   B         C         D\n",
      "2019-05-27  0.067333 -0.452978  0.686223\n",
      "2019-05-28 -0.702492  0.252265  0.958977\n"
     ]
    }
   ],
   "source": [
    "print(df.iloc[2:4, 1:4])"
   ],
   "metadata": {
    "collapsed": false
   }
  },
  {
   "cell_type": "code",
   "execution_count": 37,
   "outputs": [
    {
     "name": "stdout",
     "output_type": "stream",
     "text": [
      "                   B         D\n",
      "2019-05-27  0.067333  0.686223\n",
      "2019-05-29 -1.737568 -0.939288\n"
     ]
    }
   ],
   "source": [
    "print(df.iloc[[2, 4], [1, 3]])"
   ],
   "metadata": {
    "collapsed": false
   }
  },
  {
   "cell_type": "markdown",
   "source": [
    "#### Slicing Based on Labels"
   ],
   "metadata": {
    "collapsed": false
   }
  },
  {
   "cell_type": "code",
   "execution_count": 38,
   "outputs": [
    {
     "name": "stdout",
     "output_type": "stream",
     "text": [
      "                   A         B         C         D\n",
      "2019-06-01 -0.185258  0.856520 -0.686285  1.104195\n",
      "2019-06-02  0.387023  1.706336 -2.452653  0.260466\n",
      "2019-06-03 -1.054974  0.556775 -0.945219 -0.030295\n"
     ]
    }
   ],
   "source": [
    "print(df['20190601':'20190603'])"
   ],
   "metadata": {
    "collapsed": false
   }
  },
  {
   "cell_type": "code",
   "execution_count": 39,
   "outputs": [
    {
     "name": "stdout",
     "output_type": "stream",
     "text": [
      "                   A         B         C\n",
      "2019-06-01 -0.185258  0.856520 -0.686285\n",
      "2019-06-02  0.387023  1.706336 -2.452653\n",
      "2019-06-03 -1.054974  0.556775 -0.945219\n"
     ]
    }
   ],
   "source": [
    "print(df.loc['20190601':'20190603', 'A':'C'])"
   ],
   "metadata": {
    "collapsed": false
   }
  },
  {
   "cell_type": "code",
   "execution_count": 40,
   "outputs": [
    {
     "name": "stdout",
     "output_type": "stream",
     "text": [
      "                   A         C\n",
      "2019-06-01 -0.185258 -0.686285\n",
      "2019-06-02  0.387023 -2.452653\n",
      "2019-06-03 -1.054974 -0.945219\n"
     ]
    }
   ],
   "source": [
    "print(df.loc['20190601':'20190603', ['A', 'C']])"
   ],
   "metadata": {
    "collapsed": false
   }
  },
  {
   "cell_type": "code",
   "execution_count": 41,
   "outputs": [
    {
     "name": "stdout",
     "output_type": "stream",
     "text": [
      "A   -0.185258\n",
      "B    0.856520\n",
      "C   -0.686285\n",
      "D    1.104195\n",
      "Name: 2019-06-01 00:00:00, dtype: float64\n"
     ]
    }
   ],
   "source": [
    "print(df.loc['20190601'])"
   ],
   "metadata": {
    "collapsed": false
   }
  },
  {
   "cell_type": "code",
   "execution_count": 42,
   "outputs": [
    {
     "name": "stdout",
     "output_type": "stream",
     "text": [
      "                   A         B         C         D\n",
      "2019-06-01 -0.185258  0.856520 -0.686285  1.104195\n",
      "2019-06-03 -1.054974  0.556775 -0.945219 -0.030295\n"
     ]
    }
   ],
   "source": [
    "print(df.loc[['20190601', '20190603']])"
   ],
   "metadata": {
    "collapsed": false
   }
  },
  {
   "cell_type": "code",
   "execution_count": 43,
   "outputs": [
    {
     "name": "stdout",
     "output_type": "stream",
     "text": [
      "                   A         B         C         D\n",
      "2019-06-01 -0.185258  0.856520 -0.686285  1.104195\n",
      "2019-06-03 -1.054974  0.556775 -0.945219 -0.030295\n"
     ]
    }
   ],
   "source": [
    "from datetime import datetime\n",
    "\n",
    "date1 = datetime(2019, 6, 1, 0, 0, 0)\n",
    "date2 = datetime(2019, 6, 3, 0, 0, 0)\n",
    "print(df.loc[[date1, date2]])"
   ],
   "metadata": {
    "collapsed": false
   }
  },
  {
   "cell_type": "code",
   "execution_count": 44,
   "outputs": [
    {
     "name": "stdout",
     "output_type": "stream",
     "text": [
      "A   -0.185258\n",
      "C   -0.686285\n",
      "Name: 2019-06-01 00:00:00, dtype: float64\n"
     ]
    }
   ],
   "source": [
    "print(df.loc[date1, ['A', 'C']])"
   ],
   "metadata": {
    "collapsed": false
   }
  },
  {
   "cell_type": "markdown",
   "source": [
    "### Selecting a Single Cell in a DataFrame"
   ],
   "metadata": {
    "collapsed": false
   }
  },
  {
   "cell_type": "code",
   "execution_count": 45,
   "outputs": [
    {
     "name": "stdout",
     "output_type": "stream",
     "text": [
      "0.556775\n"
     ]
    }
   ],
   "source": [
    "from datetime import datetime\n",
    "d = datetime(2019, 6, 3, 0, 0, 0)\n",
    "print(df.at[d, 'B'])"
   ],
   "metadata": {
    "collapsed": false
   }
  },
  {
   "cell_type": "markdown",
   "source": [
    "### Selecting Based on Cell Value"
   ],
   "metadata": {
    "collapsed": false
   }
  },
  {
   "cell_type": "code",
   "execution_count": 46,
   "outputs": [
    {
     "name": "stdout",
     "output_type": "stream",
     "text": [
      "                   A         B         C         D\n",
      "2019-05-25  0.187497  1.122150 -0.988277 -1.985934\n",
      "2019-05-31  0.001268  0.951517  2.107360 -0.108726\n",
      "2019-06-02  0.387023  1.706336 -2.452653  0.260466\n"
     ]
    }
   ],
   "source": [
    "print(df[(df.A > 0) & (df.B > 0)])"
   ],
   "metadata": {
    "collapsed": false
   }
  },
  {
   "cell_type": "markdown",
   "source": [
    "### Transforming DataFrames"
   ],
   "metadata": {
    "collapsed": false
   }
  },
  {
   "cell_type": "code",
   "execution_count": 47,
   "outputs": [
    {
     "name": "stdout",
     "output_type": "stream",
     "text": [
      "   2019-05-25  2019-05-26  2019-05-27  2019-05-28  2019-05-29  2019-05-30  \\\n",
      "A    0.187497    0.360803   -0.040627   -0.279572    0.537438    0.070011   \n",
      "B    1.122150   -0.562243    0.067333   -0.702492   -1.737568   -0.516443   \n",
      "C   -0.988277   -0.340693   -0.452978    0.252265    0.714727   -1.655689   \n",
      "D   -1.985934   -0.986988    0.686223    0.958977   -0.939288    0.246721   \n",
      "\n",
      "   2019-05-31  2019-06-01  2019-06-02  2019-06-03  \n",
      "A    0.001268   -0.185258    0.387023   -1.054974  \n",
      "B    0.951517    0.856520    1.706336    0.556775  \n",
      "C    2.107360   -0.686285   -2.452653   -0.945219  \n",
      "D   -0.108726    1.104195    0.260466   -0.030295  \n"
     ]
    }
   ],
   "source": [
    "print(df.transpose())"
   ],
   "metadata": {
    "collapsed": false
   }
  },
  {
   "cell_type": "code",
   "execution_count": 48,
   "outputs": [
    {
     "name": "stdout",
     "output_type": "stream",
     "text": [
      "   2019-05-25  2019-05-26  2019-05-27  2019-05-28  2019-05-29  2019-05-30  \\\n",
      "A    0.187497    0.360803   -0.040627   -0.279572    0.537438    0.070011   \n",
      "B    1.122150   -0.562243    0.067333   -0.702492   -1.737568   -0.516443   \n",
      "C   -0.988277   -0.340693   -0.452978    0.252265    0.714727   -1.655689   \n",
      "D   -1.985934   -0.986988    0.686223    0.958977   -0.939288    0.246721   \n",
      "\n",
      "   2019-05-31  2019-06-01  2019-06-02  2019-06-03  \n",
      "A    0.001268   -0.185258    0.387023   -1.054974  \n",
      "B    0.951517    0.856520    1.706336    0.556775  \n",
      "C    2.107360   -0.686285   -2.452653   -0.945219  \n",
      "D   -0.108726    1.104195    0.260466   -0.030295  \n"
     ]
    }
   ],
   "source": [
    "print(df.T)"
   ],
   "metadata": {
    "collapsed": false
   }
  },
  {
   "cell_type": "markdown",
   "source": [
    "### Checking to See If a Result Is a DataFrame or Series"
   ],
   "metadata": {
    "collapsed": false
   }
  },
  {
   "cell_type": "code",
   "execution_count": 49,
   "outputs": [],
   "source": [
    "def checkSeriesOrDataframe(var):\n",
    "    if isinstance(var, pd.DataFrame):\n",
    "        return 'Dataframe'\n",
    "    if isinstance(var, pd.Series):\n",
    "        return 'Series'"
   ],
   "metadata": {
    "collapsed": false
   }
  },
  {
   "cell_type": "code",
   "execution_count": 50,
   "outputs": [
    {
     "name": "stdout",
     "output_type": "stream",
     "text": [
      "Dataframe\n"
     ]
    }
   ],
   "source": [
    "print(checkSeriesOrDataframe(df))"
   ],
   "metadata": {
    "collapsed": false
   }
  },
  {
   "cell_type": "markdown",
   "source": [
    "### Sorting Data in a DataFrame"
   ],
   "metadata": {
    "collapsed": false
   }
  },
  {
   "cell_type": "markdown",
   "source": [
    "#### Sorting by Index"
   ],
   "metadata": {
    "collapsed": false
   }
  },
  {
   "cell_type": "code",
   "execution_count": 51,
   "outputs": [
    {
     "name": "stdout",
     "output_type": "stream",
     "text": [
      "                   A         B         C         D\n",
      "2019-06-03 -1.054974  0.556775 -0.945219 -0.030295\n",
      "2019-06-02  0.387023  1.706336 -2.452653  0.260466\n",
      "2019-06-01 -0.185258  0.856520 -0.686285  1.104195\n",
      "2019-05-31  0.001268  0.951517  2.107360 -0.108726\n",
      "2019-05-30  0.070011 -0.516443 -1.655689  0.246721\n",
      "2019-05-29  0.537438 -1.737568  0.714727 -0.939288\n",
      "2019-05-28 -0.279572 -0.702492  0.252265  0.958977\n",
      "2019-05-27 -0.040627  0.067333 -0.452978  0.686223\n",
      "2019-05-26  0.360803 -0.562243 -0.340693 -0.986988\n",
      "2019-05-25  0.187497  1.122150 -0.988277 -1.985934\n"
     ]
    }
   ],
   "source": [
    "print(df.sort_index(axis=0, ascending=False))"
   ],
   "metadata": {
    "collapsed": false
   }
  },
  {
   "cell_type": "code",
   "execution_count": 52,
   "outputs": [
    {
     "name": "stdout",
     "output_type": "stream",
     "text": [
      "                   D         C         B         A\n",
      "2019-05-25 -1.985934 -0.988277  1.122150  0.187497\n",
      "2019-05-26 -0.986988 -0.340693 -0.562243  0.360803\n",
      "2019-05-27  0.686223 -0.452978  0.067333 -0.040627\n",
      "2019-05-28  0.958977  0.252265 -0.702492 -0.279572\n",
      "2019-05-29 -0.939288  0.714727 -1.737568  0.537438\n",
      "2019-05-30  0.246721 -1.655689 -0.516443  0.070011\n",
      "2019-05-31 -0.108726  2.107360  0.951517  0.001268\n",
      "2019-06-01  1.104195 -0.686285  0.856520 -0.185258\n",
      "2019-06-02  0.260466 -2.452653  1.706336  0.387023\n",
      "2019-06-03 -0.030295 -0.945219  0.556775 -1.054974\n"
     ]
    }
   ],
   "source": [
    "print(df.sort_index(axis=1, ascending=False))"
   ],
   "metadata": {
    "collapsed": false
   }
  },
  {
   "cell_type": "markdown",
   "source": [
    "#### Sorting by Value"
   ],
   "metadata": {
    "collapsed": false
   }
  },
  {
   "cell_type": "code",
   "execution_count": 53,
   "outputs": [
    {
     "name": "stdout",
     "output_type": "stream",
     "text": [
      "                   A         B         C         D\n",
      "2019-06-03 -1.054974  0.556775 -0.945219 -0.030295\n",
      "2019-05-28 -0.279572 -0.702492  0.252265  0.958977\n",
      "2019-06-01 -0.185258  0.856520 -0.686285  1.104195\n",
      "2019-05-27 -0.040627  0.067333 -0.452978  0.686223\n",
      "2019-05-31  0.001268  0.951517  2.107360 -0.108726\n",
      "2019-05-30  0.070011 -0.516443 -1.655689  0.246721\n",
      "2019-05-25  0.187497  1.122150 -0.988277 -1.985934\n",
      "2019-05-26  0.360803 -0.562243 -0.340693 -0.986988\n",
      "2019-06-02  0.387023  1.706336 -2.452653  0.260466\n",
      "2019-05-29  0.537438 -1.737568  0.714727 -0.939288\n"
     ]
    }
   ],
   "source": [
    "print(df.sort_values('A', axis=0))"
   ],
   "metadata": {
    "collapsed": false
   }
  },
  {
   "cell_type": "code",
   "execution_count": 54,
   "outputs": [
    {
     "name": "stdout",
     "output_type": "stream",
     "text": [
      "                   C         A         B         D\n",
      "2019-05-25 -0.988277  0.187497  1.122150 -1.985934\n",
      "2019-05-26 -0.340693  0.360803 -0.562243 -0.986988\n",
      "2019-05-27 -0.452978 -0.040627  0.067333  0.686223\n",
      "2019-05-28  0.252265 -0.279572 -0.702492  0.958977\n",
      "2019-05-29  0.714727  0.537438 -1.737568 -0.939288\n",
      "2019-05-30 -1.655689  0.070011 -0.516443  0.246721\n",
      "2019-05-31  2.107360  0.001268  0.951517 -0.108726\n",
      "2019-06-01 -0.686285 -0.185258  0.856520  1.104195\n",
      "2019-06-02 -2.452653  0.387023  1.706336  0.260466\n",
      "2019-06-03 -0.945219 -1.054974  0.556775 -0.030295\n"
     ]
    }
   ],
   "source": [
    "print(df.sort_values('20190601', axis=1))"
   ],
   "metadata": {
    "collapsed": false
   }
  },
  {
   "cell_type": "markdown",
   "source": [
    "### Applying Function to a DataFrame"
   ],
   "metadata": {
    "collapsed": false
   }
  },
  {
   "cell_type": "code",
   "execution_count": 55,
   "outputs": [],
   "source": [
    "import math\n",
    "sq_root = lambda x: math.sqrt(x) if x > 0 else x\n",
    "sq = lambda x: x**2"
   ],
   "metadata": {
    "collapsed": false
   }
  },
  {
   "cell_type": "code",
   "execution_count": 56,
   "outputs": [
    {
     "name": "stdout",
     "output_type": "stream",
     "text": [
      "2019-05-25    1.059316\n",
      "2019-05-26   -0.562243\n",
      "2019-05-27    0.259486\n",
      "2019-05-28   -0.702492\n",
      "2019-05-29   -1.737568\n",
      "2019-05-30   -0.516443\n",
      "2019-05-31    0.975457\n",
      "2019-06-01    0.925484\n",
      "2019-06-02    1.306268\n",
      "2019-06-03    0.746174\n",
      "Freq: D, Name: B, dtype: float64\n"
     ]
    }
   ],
   "source": [
    "print(df.B.apply(sq_root))"
   ],
   "metadata": {
    "collapsed": false
   }
  },
  {
   "cell_type": "code",
   "execution_count": 57,
   "outputs": [
    {
     "name": "stdout",
     "output_type": "stream",
     "text": [
      "2019-05-25    1.259221\n",
      "2019-05-26    0.316117\n",
      "2019-05-27    0.004534\n",
      "2019-05-28    0.493495\n",
      "2019-05-29    3.019143\n",
      "2019-05-30    0.266713\n",
      "2019-05-31    0.905385\n",
      "2019-06-01    0.733627\n",
      "2019-06-02    2.911583\n",
      "2019-06-03    0.309998\n",
      "Freq: D, Name: B, dtype: float64\n"
     ]
    }
   ],
   "source": [
    "print(df.B.apply(sq))"
   ],
   "metadata": {
    "collapsed": false
   }
  },
  {
   "cell_type": "code",
   "execution_count": 58,
   "outputs": [],
   "source": [
    "# ValueError\n",
    "#df.apply(sq_root)"
   ],
   "metadata": {
    "collapsed": false
   }
  },
  {
   "cell_type": "code",
   "execution_count": 59,
   "outputs": [
    {
     "data": {
      "text/plain": "                   A         B         C         D\n2019-05-25  0.035155  1.259221  0.976691  3.943934\n2019-05-26  0.130179  0.316117  0.116072  0.974145\n2019-05-27  0.001651  0.004534  0.205189  0.470902\n2019-05-28  0.078161  0.493495  0.063638  0.919637\n2019-05-29  0.288840  3.019143  0.510835  0.882262\n2019-05-30  0.004902  0.266713  2.741306  0.060871\n2019-05-31  0.000002  0.905385  4.440966  0.011821\n2019-06-01  0.034321  0.733627  0.470987  1.219247\n2019-06-02  0.149787  2.911583  6.015507  0.067843\n2019-06-03  1.112970  0.309998  0.893439  0.000918",
      "text/html": "<div>\n<style scoped>\n    .dataframe tbody tr th:only-of-type {\n        vertical-align: middle;\n    }\n\n    .dataframe tbody tr th {\n        vertical-align: top;\n    }\n\n    .dataframe thead th {\n        text-align: right;\n    }\n</style>\n<table border=\"1\" class=\"dataframe\">\n  <thead>\n    <tr style=\"text-align: right;\">\n      <th></th>\n      <th>A</th>\n      <th>B</th>\n      <th>C</th>\n      <th>D</th>\n    </tr>\n  </thead>\n  <tbody>\n    <tr>\n      <th>2019-05-25</th>\n      <td>0.035155</td>\n      <td>1.259221</td>\n      <td>0.976691</td>\n      <td>3.943934</td>\n    </tr>\n    <tr>\n      <th>2019-05-26</th>\n      <td>0.130179</td>\n      <td>0.316117</td>\n      <td>0.116072</td>\n      <td>0.974145</td>\n    </tr>\n    <tr>\n      <th>2019-05-27</th>\n      <td>0.001651</td>\n      <td>0.004534</td>\n      <td>0.205189</td>\n      <td>0.470902</td>\n    </tr>\n    <tr>\n      <th>2019-05-28</th>\n      <td>0.078161</td>\n      <td>0.493495</td>\n      <td>0.063638</td>\n      <td>0.919637</td>\n    </tr>\n    <tr>\n      <th>2019-05-29</th>\n      <td>0.288840</td>\n      <td>3.019143</td>\n      <td>0.510835</td>\n      <td>0.882262</td>\n    </tr>\n    <tr>\n      <th>2019-05-30</th>\n      <td>0.004902</td>\n      <td>0.266713</td>\n      <td>2.741306</td>\n      <td>0.060871</td>\n    </tr>\n    <tr>\n      <th>2019-05-31</th>\n      <td>0.000002</td>\n      <td>0.905385</td>\n      <td>4.440966</td>\n      <td>0.011821</td>\n    </tr>\n    <tr>\n      <th>2019-06-01</th>\n      <td>0.034321</td>\n      <td>0.733627</td>\n      <td>0.470987</td>\n      <td>1.219247</td>\n    </tr>\n    <tr>\n      <th>2019-06-02</th>\n      <td>0.149787</td>\n      <td>2.911583</td>\n      <td>6.015507</td>\n      <td>0.067843</td>\n    </tr>\n    <tr>\n      <th>2019-06-03</th>\n      <td>1.112970</td>\n      <td>0.309998</td>\n      <td>0.893439</td>\n      <td>0.000918</td>\n    </tr>\n  </tbody>\n</table>\n</div>"
     },
     "execution_count": 59,
     "metadata": {},
     "output_type": "execute_result"
    }
   ],
   "source": [
    "df.apply(sq)"
   ],
   "metadata": {
    "collapsed": false
   }
  },
  {
   "cell_type": "code",
   "execution_count": 60,
   "outputs": [
    {
     "name": "stdout",
     "output_type": "stream",
     "text": [
      "                   A         B         C         D\n",
      "2019-05-25  0.433009  1.059316 -0.988277 -1.985934\n",
      "2019-05-26  0.600669 -0.562243 -0.340693 -0.986988\n",
      "2019-05-27 -0.040627  0.259486 -0.452978  0.828386\n",
      "2019-05-28 -0.279572 -0.702492  0.502260  0.979274\n",
      "2019-05-29  0.733102 -1.737568  0.845415 -0.939288\n",
      "2019-05-30  0.264596 -0.516443 -1.655689  0.496710\n",
      "2019-05-31  0.035609  0.975457  1.451675 -0.108726\n",
      "2019-06-01 -0.185258  0.925484 -0.686285  1.050807\n",
      "2019-06-02  0.622112  1.306268 -2.452653  0.510359\n",
      "2019-06-03 -1.054974  0.746174 -0.945219 -0.030295\n"
     ]
    }
   ],
   "source": [
    "for column in df:\n",
    "    df[column] = df[column].apply(sq_root)\n",
    "print(df)"
   ],
   "metadata": {
    "collapsed": false
   }
  },
  {
   "cell_type": "code",
   "execution_count": 61,
   "outputs": [
    {
     "name": "stdout",
     "output_type": "stream",
     "text": [
      "A    1.128665\n",
      "B    1.753438\n",
      "C   -4.722444\n",
      "D   -0.185696\n",
      "dtype: float64\n"
     ]
    }
   ],
   "source": [
    "print(df.apply(np.sum, axis=0))"
   ],
   "metadata": {
    "collapsed": false
   }
  },
  {
   "cell_type": "code",
   "execution_count": 62,
   "outputs": [
    {
     "name": "stdout",
     "output_type": "stream",
     "text": [
      "2019-05-25   -1.481886\n",
      "2019-05-26   -1.289255\n",
      "2019-05-27    0.594267\n",
      "2019-05-28    0.499470\n",
      "2019-05-29   -1.098339\n",
      "2019-05-30   -1.410826\n",
      "2019-05-31    2.354015\n",
      "2019-06-01    1.104747\n",
      "2019-06-02   -0.013915\n",
      "2019-06-03   -1.284314\n",
      "Freq: D, dtype: float64\n"
     ]
    }
   ],
   "source": [
    "print(df.apply(np.sum, axis=1))"
   ],
   "metadata": {
    "collapsed": false
   }
  }
 ],
 "metadata": {
  "kernelspec": {
   "display_name": "Python 3",
   "language": "python",
   "name": "python3"
  },
  "language_info": {
   "codemirror_mode": {
    "name": "ipython",
    "version": 2
   },
   "file_extension": ".py",
   "mimetype": "text/x-python",
   "name": "python",
   "nbconvert_exporter": "python",
   "pygments_lexer": "ipython2",
   "version": "2.7.6"
  }
 },
 "nbformat": 4,
 "nbformat_minor": 0
}
