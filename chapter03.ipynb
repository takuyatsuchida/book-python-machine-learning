{
 "cells": [
  {
   "cell_type": "markdown",
   "source": [
    "# Chapter 3 Manipulating Tabular Data Using Pandas"
   ],
   "metadata": {
    "collapsed": false
   }
  },
  {
   "cell_type": "markdown",
   "source": [
    "## Pandas Series"
   ],
   "metadata": {
    "collapsed": false
   }
  },
  {
   "cell_type": "code",
   "execution_count": 1,
   "outputs": [
    {
     "name": "stdout",
     "output_type": "stream",
     "text": [
      "0    1\n",
      "1    2\n",
      "2    3\n",
      "3    4\n",
      "4    5\n",
      "dtype: int64\n"
     ]
    }
   ],
   "source": [
    "import pandas as pd\n",
    "series = pd.Series([1, 2, 3, 4, 5])\n",
    "print(series)"
   ],
   "metadata": {
    "collapsed": false
   }
  },
  {
   "cell_type": "markdown",
   "source": [
    "### Creating a Series Using a Specified Index"
   ],
   "metadata": {
    "collapsed": false
   }
  },
  {
   "cell_type": "code",
   "execution_count": 2,
   "outputs": [
    {
     "name": "stdout",
     "output_type": "stream",
     "text": [
      "a    1\n",
      "b    2\n",
      "c    3\n",
      "d    4\n",
      "c    5\n",
      "dtype: int64\n"
     ]
    }
   ],
   "source": [
    "series = pd.Series([1, 2, 3, 4, 5], index=['a', 'b', 'c', 'd', 'c'])\n",
    "print(series)"
   ],
   "metadata": {
    "collapsed": false
   }
  },
  {
   "cell_type": "markdown",
   "source": [
    "### Accessing Elements in a Series"
   ],
   "metadata": {
    "collapsed": false
   }
  },
  {
   "cell_type": "code",
   "execution_count": 3,
   "outputs": [
    {
     "name": "stdout",
     "output_type": "stream",
     "text": [
      "3\n"
     ]
    }
   ],
   "source": [
    "print(series[2])"
   ],
   "metadata": {
    "collapsed": false
   }
  },
  {
   "cell_type": "code",
   "execution_count": 4,
   "outputs": [
    {
     "name": "stdout",
     "output_type": "stream",
     "text": [
      "3\n"
     ]
    }
   ],
   "source": [
    "print(series.iloc[2])"
   ],
   "metadata": {
    "collapsed": false
   }
  },
  {
   "cell_type": "code",
   "execution_count": 5,
   "outputs": [
    {
     "name": "stdout",
     "output_type": "stream",
     "text": [
      "4\n"
     ]
    }
   ],
   "source": [
    "print(series['d'])"
   ],
   "metadata": {
    "collapsed": false
   }
  },
  {
   "cell_type": "code",
   "execution_count": 6,
   "outputs": [
    {
     "name": "stdout",
     "output_type": "stream",
     "text": [
      "4\n"
     ]
    }
   ],
   "source": [
    "print(series.loc['d'])"
   ],
   "metadata": {
    "collapsed": false
   }
  },
  {
   "cell_type": "code",
   "execution_count": 7,
   "outputs": [
    {
     "name": "stdout",
     "output_type": "stream",
     "text": [
      "c    3\n",
      "c    5\n",
      "dtype: int64\n"
     ]
    }
   ],
   "source": [
    "print(series['c'])"
   ],
   "metadata": {
    "collapsed": false
   }
  },
  {
   "cell_type": "code",
   "execution_count": 8,
   "outputs": [
    {
     "name": "stdout",
     "output_type": "stream",
     "text": [
      "c    3\n",
      "d    4\n",
      "c    5\n",
      "dtype: int64\n"
     ]
    }
   ],
   "source": [
    "print(series[2:])"
   ],
   "metadata": {
    "collapsed": false
   }
  },
  {
   "cell_type": "code",
   "execution_count": 9,
   "outputs": [
    {
     "name": "stdout",
     "output_type": "stream",
     "text": [
      "c    3\n",
      "d    4\n",
      "c    5\n",
      "dtype: int64\n"
     ]
    }
   ],
   "source": [
    "print(series.iloc[2:])"
   ],
   "metadata": {
    "collapsed": false
   }
  },
  {
   "cell_type": "markdown",
   "source": [
    "### Specifying a Datetime Range as the Index of a Series"
   ],
   "metadata": {
    "collapsed": false
   }
  },
  {
   "cell_type": "code",
   "execution_count": 10,
   "outputs": [
    {
     "name": "stdout",
     "output_type": "stream",
     "text": [
      "DatetimeIndex(['2019-05-25', '2019-05-26', '2019-05-27', '2019-05-28',\n",
      "               '2019-05-29', '2019-05-30', '2019-05-31', '2019-06-01',\n",
      "               '2019-06-02', '2019-06-03', '2019-06-04', '2019-06-05'],\n",
      "              dtype='datetime64[ns]', freq='D')\n"
     ]
    }
   ],
   "source": [
    "dates1 = pd.date_range('20190525', periods=12)\n",
    "print(dates1)"
   ],
   "metadata": {
    "collapsed": false
   }
  },
  {
   "cell_type": "code",
   "execution_count": 11,
   "outputs": [
    {
     "name": "stdout",
     "output_type": "stream",
     "text": [
      "2019-05-25     1\n",
      "2019-05-26     2\n",
      "2019-05-27     3\n",
      "2019-05-28     4\n",
      "2019-05-29     5\n",
      "2019-05-30     6\n",
      "2019-05-31     7\n",
      "2019-06-01     8\n",
      "2019-06-02     9\n",
      "2019-06-03    10\n",
      "2019-06-04    11\n",
      "2019-06-05    12\n",
      "Freq: D, dtype: int64\n"
     ]
    }
   ],
   "source": [
    "series = pd.Series([1, 2, 3, 4, 5, 6, 7, 8, 9, 10, 11, 12])\n",
    "series.index = dates1\n",
    "print(series)"
   ],
   "metadata": {
    "collapsed": false
   }
  },
  {
   "cell_type": "markdown",
   "source": [
    "### Date Ranges"
   ],
   "metadata": {
    "collapsed": false
   }
  },
  {
   "cell_type": "code",
   "execution_count": 12,
   "outputs": [
    {
     "name": "stdout",
     "output_type": "stream",
     "text": [
      "DatetimeIndex(['2019-05-31', '2019-06-30', '2019-07-31', '2019-08-31',\n",
      "               '2019-09-30', '2019-10-31', '2019-11-30', '2019-12-31',\n",
      "               '2020-01-31', '2020-02-29', '2020-03-31', '2020-04-30'],\n",
      "              dtype='datetime64[ns]', freq='M')\n"
     ]
    }
   ],
   "source": [
    "dates2 = pd.date_range('2019-05-01', periods=12, freq='M')\n",
    "print(dates2)"
   ],
   "metadata": {
    "collapsed": false
   }
  },
  {
   "cell_type": "code",
   "execution_count": 13,
   "outputs": [
    {
     "name": "stdout",
     "output_type": "stream",
     "text": [
      "DatetimeIndex(['2019-05-01', '2019-06-01', '2019-07-01', '2019-08-01',\n",
      "               '2019-09-01', '2019-10-01', '2019-11-01', '2019-12-01',\n",
      "               '2020-01-01', '2020-02-01', '2020-03-01', '2020-04-01'],\n",
      "              dtype='datetime64[ns]', freq='MS')\n"
     ]
    }
   ],
   "source": [
    "dates2 = pd.date_range('2019-05-01', periods=12, freq='MS')\n",
    "print(dates2)"
   ],
   "metadata": {
    "collapsed": false
   }
  },
  {
   "cell_type": "code",
   "execution_count": 14,
   "outputs": [
    {
     "name": "stdout",
     "output_type": "stream",
     "text": [
      "DatetimeIndex(['2019-05-01', '2019-06-01', '2019-07-01', '2019-08-01',\n",
      "               '2019-09-01', '2019-10-01', '2019-11-01', '2019-12-01',\n",
      "               '2020-01-01', '2020-02-01', '2020-03-01', '2020-04-01'],\n",
      "              dtype='datetime64[ns]', freq='MS')\n"
     ]
    }
   ],
   "source": [
    "dates2 = pd.date_range('05-01-2019', periods=12, freq='MS')\n",
    "print(dates2)"
   ],
   "metadata": {
    "collapsed": false
   }
  },
  {
   "cell_type": "code",
   "execution_count": 15,
   "outputs": [
    {
     "name": "stdout",
     "output_type": "stream",
     "text": [
      "DatetimeIndex(['2019-05-17 09:00:00', '2019-05-17 10:00:00',\n",
      "               '2019-05-17 11:00:00', '2019-05-17 12:00:00',\n",
      "               '2019-05-17 13:00:00', '2019-05-17 14:00:00',\n",
      "               '2019-05-17 15:00:00', '2019-05-17 16:00:00'],\n",
      "              dtype='datetime64[ns]', freq='H')\n"
     ]
    }
   ],
   "source": [
    "dates3 = pd.date_range('2019/05/17 09:00:00', periods=8, freq='H')\n",
    "print(dates3)"
   ],
   "metadata": {
    "collapsed": false
   }
  },
  {
   "cell_type": "markdown",
   "source": [
    "## Pandas DataFrame"
   ],
   "metadata": {
    "collapsed": false
   }
  },
  {
   "cell_type": "markdown",
   "source": [
    "### Creating a DataFrame"
   ],
   "metadata": {
    "collapsed": false
   }
  },
  {
   "cell_type": "code",
   "execution_count": 16,
   "outputs": [
    {
     "name": "stdout",
     "output_type": "stream",
     "text": [
      "          A         B         C         D\n",
      "0 -0.668802  0.785884 -1.837948 -0.899967\n",
      "1  0.317947 -0.934161  0.532194  1.515294\n",
      "2  0.883386  0.091740  0.591795  0.835651\n",
      "3  0.936215  0.220731 -0.346493 -2.576041\n",
      "4 -1.428674 -0.700996  0.130954  0.097482\n",
      "5  0.156932  1.341607  1.696950  0.817164\n",
      "6  1.641992  0.274047 -0.227993  0.721275\n",
      "7  1.376821  0.653383  0.079606  2.763468\n",
      "8  0.790996 -0.716991 -1.386284 -2.134173\n",
      "9 -1.049810 -0.033083 -1.707949 -0.903368\n"
     ]
    }
   ],
   "source": [
    "import pandas as pd\n",
    "import numpy as np\n",
    "\n",
    "df = pd.DataFrame(np.random.randn(10, 4), columns=list('ABCD'))\n",
    "print(df)"
   ],
   "metadata": {
    "collapsed": false
   }
  },
  {
   "cell_type": "code",
   "execution_count": 17,
   "outputs": [],
   "source": [
    "df = pd.read_csv('data.csv')"
   ],
   "metadata": {
    "collapsed": false
   }
  },
  {
   "cell_type": "markdown",
   "source": [
    "### Specifying the Index in a DataFrame"
   ],
   "metadata": {
    "collapsed": false
   }
  },
  {
   "cell_type": "code",
   "execution_count": 18,
   "outputs": [
    {
     "name": "stdout",
     "output_type": "stream",
     "text": [
      "                   A         B         C         D\n",
      "2019-05-25  0.187497  1.122150 -0.988277 -1.985934\n",
      "2019-05-26  0.360803 -0.562243 -0.340693 -0.986988\n",
      "2019-05-27 -0.040627  0.067333 -0.452978  0.686223\n",
      "2019-05-28 -0.279572 -0.702492  0.252265  0.958977\n",
      "2019-05-29  0.537438 -1.737568  0.714727 -0.939288\n",
      "2019-05-30  0.070011 -0.516443 -1.655689  0.246721\n",
      "2019-05-31  0.001268  0.951517  2.107360 -0.108726\n",
      "2019-06-01 -0.185258  0.856520 -0.686285  1.104195\n",
      "2019-06-02  0.387023  1.706336 -2.452653  0.260466\n",
      "2019-06-03 -1.054974  0.556775 -0.945219 -0.030295\n"
     ]
    }
   ],
   "source": [
    "df = pd.read_csv('data.csv')\n",
    "days = pd.date_range('20190525', periods=10)\n",
    "df.index = days\n",
    "print(df)"
   ],
   "metadata": {
    "collapsed": false
   }
  },
  {
   "cell_type": "code",
   "execution_count": 19,
   "outputs": [
    {
     "name": "stdout",
     "output_type": "stream",
     "text": [
      "DatetimeIndex(['2019-05-25', '2019-05-26', '2019-05-27', '2019-05-28',\n",
      "               '2019-05-29', '2019-05-30', '2019-05-31', '2019-06-01',\n",
      "               '2019-06-02', '2019-06-03'],\n",
      "              dtype='datetime64[ns]', freq='D')\n"
     ]
    }
   ],
   "source": [
    "print(df.index)"
   ],
   "metadata": {
    "collapsed": false
   }
  },
  {
   "cell_type": "code",
   "execution_count": 20,
   "outputs": [
    {
     "name": "stdout",
     "output_type": "stream",
     "text": [
      "[[ 1.874970e-01  1.122150e+00 -9.882770e-01 -1.985934e+00]\n",
      " [ 3.608030e-01 -5.622430e-01 -3.406930e-01 -9.869880e-01]\n",
      " [-4.062700e-02  6.733300e-02 -4.529780e-01  6.862230e-01]\n",
      " [-2.795720e-01 -7.024920e-01  2.522650e-01  9.589770e-01]\n",
      " [ 5.374380e-01 -1.737568e+00  7.147270e-01 -9.392880e-01]\n",
      " [ 7.001100e-02 -5.164430e-01 -1.655689e+00  2.467210e-01]\n",
      " [ 1.268000e-03  9.515170e-01  2.107360e+00 -1.087260e-01]\n",
      " [-1.852580e-01  8.565200e-01 -6.862850e-01  1.104195e+00]\n",
      " [ 3.870230e-01  1.706336e+00 -2.452653e+00  2.604660e-01]\n",
      " [-1.054974e+00  5.567750e-01 -9.452190e-01 -3.029500e-02]]\n"
     ]
    }
   ],
   "source": [
    "print(df.values)"
   ],
   "metadata": {
    "collapsed": false
   }
  },
  {
   "cell_type": "markdown",
   "source": [
    "### Generating Descriptive Statistics on the DataFrame"
   ],
   "metadata": {
    "collapsed": false
   }
  },
  {
   "cell_type": "code",
   "execution_count": 21,
   "outputs": [
    {
     "name": "stdout",
     "output_type": "stream",
     "text": [
      "               A          B          C          D\n",
      "count  10.000000  10.000000  10.000000  10.000000\n",
      "mean   -0.001639   0.174188  -0.444744  -0.079465\n",
      "std     0.451656   1.049677   1.267397   0.971164\n",
      "min    -1.054974  -1.737568  -2.452653  -1.985934\n",
      "25%    -0.149100  -0.550793  -0.977513  -0.731648\n",
      "50%     0.035640   0.312054  -0.569632   0.108213\n",
      "75%     0.317476   0.927768   0.104025   0.579784\n",
      "max     0.537438   1.706336   2.107360   1.104195\n"
     ]
    }
   ],
   "source": [
    "print(df.describe())"
   ],
   "metadata": {
    "collapsed": false
   }
  },
  {
   "cell_type": "code",
   "execution_count": 22,
   "outputs": [
    {
     "name": "stdout",
     "output_type": "stream",
     "text": [
      "A   -0.001639\n",
      "B    0.174188\n",
      "C   -0.444744\n",
      "D   -0.079465\n",
      "dtype: float64\n"
     ]
    }
   ],
   "source": [
    "print(df.mean(0))"
   ],
   "metadata": {
    "collapsed": false
   }
  },
  {
   "cell_type": "code",
   "execution_count": 23,
   "outputs": [
    {
     "name": "stdout",
     "output_type": "stream",
     "text": [
      "2019-05-25   -0.416141\n",
      "2019-05-26   -0.382280\n",
      "2019-05-27    0.064988\n",
      "2019-05-28    0.057294\n",
      "2019-05-29   -0.356173\n",
      "2019-05-30   -0.463850\n",
      "2019-05-31    0.737855\n",
      "2019-06-01    0.272293\n",
      "2019-06-02   -0.024707\n",
      "2019-06-03   -0.368428\n",
      "Freq: D, dtype: float64\n"
     ]
    }
   ],
   "source": [
    "print(df.mean(1))"
   ],
   "metadata": {
    "collapsed": false
   }
  },
  {
   "cell_type": "markdown",
   "source": [
    "### Extracting from DataFrames"
   ],
   "metadata": {
    "collapsed": false
   }
  },
  {
   "cell_type": "markdown",
   "source": [
    "#### Selecting the First and Last Five Rows"
   ],
   "metadata": {
    "collapsed": false
   }
  },
  {
   "cell_type": "code",
   "execution_count": 24,
   "outputs": [
    {
     "name": "stdout",
     "output_type": "stream",
     "text": [
      "                   A         B         C         D\n",
      "2019-05-25  0.187497  1.122150 -0.988277 -1.985934\n",
      "2019-05-26  0.360803 -0.562243 -0.340693 -0.986988\n",
      "2019-05-27 -0.040627  0.067333 -0.452978  0.686223\n",
      "2019-05-28 -0.279572 -0.702492  0.252265  0.958977\n",
      "2019-05-29  0.537438 -1.737568  0.714727 -0.939288\n"
     ]
    }
   ],
   "source": [
    "print(df.head())"
   ],
   "metadata": {
    "collapsed": false
   }
  },
  {
   "cell_type": "code",
   "execution_count": 25,
   "outputs": [
    {
     "name": "stdout",
     "output_type": "stream",
     "text": [
      "                   A         B         C         D\n",
      "2019-05-25  0.187497  1.122150 -0.988277 -1.985934\n",
      "2019-05-26  0.360803 -0.562243 -0.340693 -0.986988\n",
      "2019-05-27 -0.040627  0.067333 -0.452978  0.686223\n",
      "2019-05-28 -0.279572 -0.702492  0.252265  0.958977\n",
      "2019-05-29  0.537438 -1.737568  0.714727 -0.939288\n",
      "2019-05-30  0.070011 -0.516443 -1.655689  0.246721\n",
      "2019-05-31  0.001268  0.951517  2.107360 -0.108726\n",
      "2019-06-01 -0.185258  0.856520 -0.686285  1.104195\n"
     ]
    }
   ],
   "source": [
    "print(df.head(8))"
   ],
   "metadata": {
    "collapsed": false
   }
  },
  {
   "cell_type": "code",
   "execution_count": 26,
   "outputs": [
    {
     "name": "stdout",
     "output_type": "stream",
     "text": [
      "                   A         B         C         D\n",
      "2019-05-30  0.070011 -0.516443 -1.655689  0.246721\n",
      "2019-05-31  0.001268  0.951517  2.107360 -0.108726\n",
      "2019-06-01 -0.185258  0.856520 -0.686285  1.104195\n",
      "2019-06-02  0.387023  1.706336 -2.452653  0.260466\n",
      "2019-06-03 -1.054974  0.556775 -0.945219 -0.030295\n"
     ]
    }
   ],
   "source": [
    "print(df.tail())"
   ],
   "metadata": {
    "collapsed": false
   }
  },
  {
   "cell_type": "code",
   "execution_count": 27,
   "outputs": [
    {
     "name": "stdout",
     "output_type": "stream",
     "text": [
      "                   A         B         C         D\n",
      "2019-05-27 -0.040627  0.067333 -0.452978  0.686223\n",
      "2019-05-28 -0.279572 -0.702492  0.252265  0.958977\n",
      "2019-05-29  0.537438 -1.737568  0.714727 -0.939288\n",
      "2019-05-30  0.070011 -0.516443 -1.655689  0.246721\n",
      "2019-05-31  0.001268  0.951517  2.107360 -0.108726\n",
      "2019-06-01 -0.185258  0.856520 -0.686285  1.104195\n",
      "2019-06-02  0.387023  1.706336 -2.452653  0.260466\n",
      "2019-06-03 -1.054974  0.556775 -0.945219 -0.030295\n"
     ]
    }
   ],
   "source": [
    "print(df.tail(8))"
   ],
   "metadata": {
    "collapsed": false
   }
  },
  {
   "cell_type": "markdown",
   "source": [
    "#### Selecting a Specific Column in a DataFrame"
   ],
   "metadata": {
    "collapsed": false
   }
  },
  {
   "cell_type": "code",
   "execution_count": 28,
   "outputs": [
    {
     "name": "stdout",
     "output_type": "stream",
     "text": [
      "2019-05-25    0.187497\n",
      "2019-05-26    0.360803\n",
      "2019-05-27   -0.040627\n",
      "2019-05-28   -0.279572\n",
      "2019-05-29    0.537438\n",
      "2019-05-30    0.070011\n",
      "2019-05-31    0.001268\n",
      "2019-06-01   -0.185258\n",
      "2019-06-02    0.387023\n",
      "2019-06-03   -1.054974\n",
      "Freq: D, Name: A, dtype: float64\n"
     ]
    }
   ],
   "source": [
    "print(df['A'])"
   ],
   "metadata": {
    "collapsed": false
   }
  },
  {
   "cell_type": "code",
   "execution_count": 29,
   "outputs": [
    {
     "name": "stdout",
     "output_type": "stream",
     "text": [
      "2019-05-25    0.187497\n",
      "2019-05-26    0.360803\n",
      "2019-05-27   -0.040627\n",
      "2019-05-28   -0.279572\n",
      "2019-05-29    0.537438\n",
      "2019-05-30    0.070011\n",
      "2019-05-31    0.001268\n",
      "2019-06-01   -0.185258\n",
      "2019-06-02    0.387023\n",
      "2019-06-03   -1.054974\n",
      "Freq: D, Name: A, dtype: float64\n"
     ]
    }
   ],
   "source": [
    "print(df.A)"
   ],
   "metadata": {
    "collapsed": false
   }
  },
  {
   "cell_type": "code",
   "execution_count": 30,
   "outputs": [
    {
     "name": "stdout",
     "output_type": "stream",
     "text": [
      "                   A         B\n",
      "2019-05-25  0.187497  1.122150\n",
      "2019-05-26  0.360803 -0.562243\n",
      "2019-05-27 -0.040627  0.067333\n",
      "2019-05-28 -0.279572 -0.702492\n",
      "2019-05-29  0.537438 -1.737568\n",
      "2019-05-30  0.070011 -0.516443\n",
      "2019-05-31  0.001268  0.951517\n",
      "2019-06-01 -0.185258  0.856520\n",
      "2019-06-02  0.387023  1.706336\n",
      "2019-06-03 -1.054974  0.556775\n"
     ]
    }
   ],
   "source": [
    "print(df[['A', 'B']])"
   ],
   "metadata": {
    "collapsed": false
   }
  },
  {
   "cell_type": "markdown",
   "source": [
    "#### Slicing Based on Row Number"
   ],
   "metadata": {
    "collapsed": false
   }
  },
  {
   "cell_type": "code",
   "execution_count": 31,
   "outputs": [
    {
     "name": "stdout",
     "output_type": "stream",
     "text": [
      "                   A         B         C         D\n",
      "2019-05-27 -0.040627  0.067333 -0.452978  0.686223\n",
      "2019-05-28 -0.279572 -0.702492  0.252265  0.958977\n"
     ]
    }
   ],
   "source": [
    "print(df[2:4])"
   ],
   "metadata": {
    "collapsed": false
   }
  },
  {
   "cell_type": "code",
   "execution_count": 32,
   "outputs": [
    {
     "name": "stdout",
     "output_type": "stream",
     "text": [
      "                   A         B         C         D\n",
      "2019-05-27 -0.040627  0.067333 -0.452978  0.686223\n",
      "2019-05-28 -0.279572 -0.702492  0.252265  0.958977\n"
     ]
    }
   ],
   "source": [
    "print(df.iloc[2:4])"
   ],
   "metadata": {
    "collapsed": false
   }
  },
  {
   "cell_type": "code",
   "execution_count": 33,
   "outputs": [
    {
     "name": "stdout",
     "output_type": "stream",
     "text": [
      "                   A         B         C         D\n",
      "2019-05-27 -0.040627  0.067333 -0.452978  0.686223\n",
      "2019-05-29  0.537438 -1.737568  0.714727 -0.939288\n"
     ]
    }
   ],
   "source": [
    "print(df.iloc[[2, 4]])"
   ],
   "metadata": {
    "collapsed": false
   }
  },
  {
   "cell_type": "code",
   "execution_count": 34,
   "outputs": [],
   "source": [
    "# Error\n",
    "#print(df[[2, 4]])"
   ],
   "metadata": {
    "collapsed": false
   }
  },
  {
   "cell_type": "code",
   "execution_count": 35,
   "outputs": [
    {
     "name": "stdout",
     "output_type": "stream",
     "text": [
      "A   -0.040627\n",
      "B    0.067333\n",
      "C   -0.452978\n",
      "D    0.686223\n",
      "Name: 2019-05-27 00:00:00, dtype: float64\n"
     ]
    }
   ],
   "source": [
    "print(df.iloc[2])"
   ],
   "metadata": {
    "collapsed": false
   }
  },
  {
   "cell_type": "markdown",
   "source": [
    "#### Slicing Based on Row and Column Numbers"
   ],
   "metadata": {
    "collapsed": false
   }
  },
  {
   "cell_type": "code",
   "execution_count": 36,
   "outputs": [
    {
     "name": "stdout",
     "output_type": "stream",
     "text": [
      "                   B         C         D\n",
      "2019-05-27  0.067333 -0.452978  0.686223\n",
      "2019-05-28 -0.702492  0.252265  0.958977\n"
     ]
    }
   ],
   "source": [
    "print(df.iloc[2:4, 1:4])"
   ],
   "metadata": {
    "collapsed": false
   }
  },
  {
   "cell_type": "code",
   "execution_count": 37,
   "outputs": [
    {
     "name": "stdout",
     "output_type": "stream",
     "text": [
      "                   B         D\n",
      "2019-05-27  0.067333  0.686223\n",
      "2019-05-29 -1.737568 -0.939288\n"
     ]
    }
   ],
   "source": [
    "print(df.iloc[[2, 4], [1, 3]])"
   ],
   "metadata": {
    "collapsed": false
   }
  },
  {
   "cell_type": "markdown",
   "source": [
    "#### Slicing Based on Labels"
   ],
   "metadata": {
    "collapsed": false
   }
  },
  {
   "cell_type": "code",
   "execution_count": 38,
   "outputs": [
    {
     "name": "stdout",
     "output_type": "stream",
     "text": [
      "                   A         B         C         D\n",
      "2019-06-01 -0.185258  0.856520 -0.686285  1.104195\n",
      "2019-06-02  0.387023  1.706336 -2.452653  0.260466\n",
      "2019-06-03 -1.054974  0.556775 -0.945219 -0.030295\n"
     ]
    }
   ],
   "source": [
    "print(df['20190601':'20190603'])"
   ],
   "metadata": {
    "collapsed": false
   }
  },
  {
   "cell_type": "code",
   "execution_count": 39,
   "outputs": [
    {
     "name": "stdout",
     "output_type": "stream",
     "text": [
      "                   A         B         C\n",
      "2019-06-01 -0.185258  0.856520 -0.686285\n",
      "2019-06-02  0.387023  1.706336 -2.452653\n",
      "2019-06-03 -1.054974  0.556775 -0.945219\n"
     ]
    }
   ],
   "source": [
    "print(df.loc['20190601':'20190603', 'A':'C'])"
   ],
   "metadata": {
    "collapsed": false
   }
  },
  {
   "cell_type": "code",
   "execution_count": 40,
   "outputs": [
    {
     "name": "stdout",
     "output_type": "stream",
     "text": [
      "                   A         C\n",
      "2019-06-01 -0.185258 -0.686285\n",
      "2019-06-02  0.387023 -2.452653\n",
      "2019-06-03 -1.054974 -0.945219\n"
     ]
    }
   ],
   "source": [
    "print(df.loc['20190601':'20190603', ['A', 'C']])"
   ],
   "metadata": {
    "collapsed": false
   }
  },
  {
   "cell_type": "code",
   "execution_count": 41,
   "outputs": [
    {
     "name": "stdout",
     "output_type": "stream",
     "text": [
      "A   -0.185258\n",
      "B    0.856520\n",
      "C   -0.686285\n",
      "D    1.104195\n",
      "Name: 2019-06-01 00:00:00, dtype: float64\n"
     ]
    }
   ],
   "source": [
    "print(df.loc['20190601'])"
   ],
   "metadata": {
    "collapsed": false
   }
  },
  {
   "cell_type": "code",
   "execution_count": 42,
   "outputs": [
    {
     "name": "stdout",
     "output_type": "stream",
     "text": [
      "                   A         B         C         D\n",
      "2019-06-01 -0.185258  0.856520 -0.686285  1.104195\n",
      "2019-06-03 -1.054974  0.556775 -0.945219 -0.030295\n"
     ]
    }
   ],
   "source": [
    "print(df.loc[['20190601', '20190603']])"
   ],
   "metadata": {
    "collapsed": false
   }
  },
  {
   "cell_type": "code",
   "execution_count": 43,
   "outputs": [
    {
     "name": "stdout",
     "output_type": "stream",
     "text": [
      "                   A         B         C         D\n",
      "2019-06-01 -0.185258  0.856520 -0.686285  1.104195\n",
      "2019-06-03 -1.054974  0.556775 -0.945219 -0.030295\n"
     ]
    }
   ],
   "source": [
    "from datetime import datetime\n",
    "\n",
    "date1 = datetime(2019, 6, 1, 0, 0, 0)\n",
    "date2 = datetime(2019, 6, 3, 0, 0, 0)\n",
    "print(df.loc[[date1, date2]])"
   ],
   "metadata": {
    "collapsed": false
   }
  },
  {
   "cell_type": "code",
   "execution_count": 44,
   "outputs": [
    {
     "name": "stdout",
     "output_type": "stream",
     "text": [
      "A   -0.185258\n",
      "C   -0.686285\n",
      "Name: 2019-06-01 00:00:00, dtype: float64\n"
     ]
    }
   ],
   "source": [
    "print(df.loc[date1, ['A', 'C']])"
   ],
   "metadata": {
    "collapsed": false
   }
  },
  {
   "cell_type": "markdown",
   "source": [
    "### Selecting a Single Cell in a DataFrame"
   ],
   "metadata": {
    "collapsed": false
   }
  },
  {
   "cell_type": "code",
   "execution_count": 45,
   "outputs": [
    {
     "name": "stdout",
     "output_type": "stream",
     "text": [
      "0.556775\n"
     ]
    }
   ],
   "source": [
    "from datetime import datetime\n",
    "d = datetime(2019, 6, 3, 0, 0, 0)\n",
    "print(df.at[d, 'B'])"
   ],
   "metadata": {
    "collapsed": false
   }
  },
  {
   "cell_type": "markdown",
   "source": [
    "### Selecting Based on Cell Value"
   ],
   "metadata": {
    "collapsed": false
   }
  },
  {
   "cell_type": "code",
   "execution_count": 46,
   "outputs": [
    {
     "name": "stdout",
     "output_type": "stream",
     "text": [
      "                   A         B         C         D\n",
      "2019-05-25  0.187497  1.122150 -0.988277 -1.985934\n",
      "2019-05-31  0.001268  0.951517  2.107360 -0.108726\n",
      "2019-06-02  0.387023  1.706336 -2.452653  0.260466\n"
     ]
    }
   ],
   "source": [
    "print(df[(df.A > 0) & (df.B > 0)])"
   ],
   "metadata": {
    "collapsed": false
   }
  },
  {
   "cell_type": "markdown",
   "source": [
    "### Transforming DataFrames"
   ],
   "metadata": {
    "collapsed": false
   }
  },
  {
   "cell_type": "code",
   "execution_count": 47,
   "outputs": [
    {
     "name": "stdout",
     "output_type": "stream",
     "text": [
      "   2019-05-25  2019-05-26  2019-05-27  2019-05-28  2019-05-29  2019-05-30  \\\n",
      "A    0.187497    0.360803   -0.040627   -0.279572    0.537438    0.070011   \n",
      "B    1.122150   -0.562243    0.067333   -0.702492   -1.737568   -0.516443   \n",
      "C   -0.988277   -0.340693   -0.452978    0.252265    0.714727   -1.655689   \n",
      "D   -1.985934   -0.986988    0.686223    0.958977   -0.939288    0.246721   \n",
      "\n",
      "   2019-05-31  2019-06-01  2019-06-02  2019-06-03  \n",
      "A    0.001268   -0.185258    0.387023   -1.054974  \n",
      "B    0.951517    0.856520    1.706336    0.556775  \n",
      "C    2.107360   -0.686285   -2.452653   -0.945219  \n",
      "D   -0.108726    1.104195    0.260466   -0.030295  \n"
     ]
    }
   ],
   "source": [
    "print(df.transpose())"
   ],
   "metadata": {
    "collapsed": false
   }
  },
  {
   "cell_type": "code",
   "execution_count": 48,
   "outputs": [
    {
     "name": "stdout",
     "output_type": "stream",
     "text": [
      "   2019-05-25  2019-05-26  2019-05-27  2019-05-28  2019-05-29  2019-05-30  \\\n",
      "A    0.187497    0.360803   -0.040627   -0.279572    0.537438    0.070011   \n",
      "B    1.122150   -0.562243    0.067333   -0.702492   -1.737568   -0.516443   \n",
      "C   -0.988277   -0.340693   -0.452978    0.252265    0.714727   -1.655689   \n",
      "D   -1.985934   -0.986988    0.686223    0.958977   -0.939288    0.246721   \n",
      "\n",
      "   2019-05-31  2019-06-01  2019-06-02  2019-06-03  \n",
      "A    0.001268   -0.185258    0.387023   -1.054974  \n",
      "B    0.951517    0.856520    1.706336    0.556775  \n",
      "C    2.107360   -0.686285   -2.452653   -0.945219  \n",
      "D   -0.108726    1.104195    0.260466   -0.030295  \n"
     ]
    }
   ],
   "source": [
    "print(df.T)"
   ],
   "metadata": {
    "collapsed": false
   }
  },
  {
   "cell_type": "markdown",
   "source": [
    "### Checking to See If a Result Is a DataFrame or Series"
   ],
   "metadata": {
    "collapsed": false
   }
  },
  {
   "cell_type": "code",
   "execution_count": 49,
   "outputs": [],
   "source": [
    "def checkSeriesOrDataframe(var):\n",
    "    if isinstance(var, pd.DataFrame):\n",
    "        return 'Dataframe'\n",
    "    if isinstance(var, pd.Series):\n",
    "        return 'Series'"
   ],
   "metadata": {
    "collapsed": false
   }
  },
  {
   "cell_type": "code",
   "execution_count": 50,
   "outputs": [
    {
     "name": "stdout",
     "output_type": "stream",
     "text": [
      "Dataframe\n"
     ]
    }
   ],
   "source": [
    "print(checkSeriesOrDataframe(df))"
   ],
   "metadata": {
    "collapsed": false
   }
  },
  {
   "cell_type": "markdown",
   "source": [
    "### Sorting Data in a DataFrame"
   ],
   "metadata": {
    "collapsed": false
   }
  },
  {
   "cell_type": "markdown",
   "source": [
    "#### Sorting by Index"
   ],
   "metadata": {
    "collapsed": false
   }
  },
  {
   "cell_type": "code",
   "execution_count": 51,
   "outputs": [
    {
     "name": "stdout",
     "output_type": "stream",
     "text": [
      "                   A         B         C         D\n",
      "2019-06-03 -1.054974  0.556775 -0.945219 -0.030295\n",
      "2019-06-02  0.387023  1.706336 -2.452653  0.260466\n",
      "2019-06-01 -0.185258  0.856520 -0.686285  1.104195\n",
      "2019-05-31  0.001268  0.951517  2.107360 -0.108726\n",
      "2019-05-30  0.070011 -0.516443 -1.655689  0.246721\n",
      "2019-05-29  0.537438 -1.737568  0.714727 -0.939288\n",
      "2019-05-28 -0.279572 -0.702492  0.252265  0.958977\n",
      "2019-05-27 -0.040627  0.067333 -0.452978  0.686223\n",
      "2019-05-26  0.360803 -0.562243 -0.340693 -0.986988\n",
      "2019-05-25  0.187497  1.122150 -0.988277 -1.985934\n"
     ]
    }
   ],
   "source": [
    "print(df.sort_index(axis=0, ascending=False))"
   ],
   "metadata": {
    "collapsed": false
   }
  },
  {
   "cell_type": "code",
   "execution_count": 52,
   "outputs": [
    {
     "name": "stdout",
     "output_type": "stream",
     "text": [
      "                   D         C         B         A\n",
      "2019-05-25 -1.985934 -0.988277  1.122150  0.187497\n",
      "2019-05-26 -0.986988 -0.340693 -0.562243  0.360803\n",
      "2019-05-27  0.686223 -0.452978  0.067333 -0.040627\n",
      "2019-05-28  0.958977  0.252265 -0.702492 -0.279572\n",
      "2019-05-29 -0.939288  0.714727 -1.737568  0.537438\n",
      "2019-05-30  0.246721 -1.655689 -0.516443  0.070011\n",
      "2019-05-31 -0.108726  2.107360  0.951517  0.001268\n",
      "2019-06-01  1.104195 -0.686285  0.856520 -0.185258\n",
      "2019-06-02  0.260466 -2.452653  1.706336  0.387023\n",
      "2019-06-03 -0.030295 -0.945219  0.556775 -1.054974\n"
     ]
    }
   ],
   "source": [
    "print(df.sort_index(axis=1, ascending=False))"
   ],
   "metadata": {
    "collapsed": false
   }
  },
  {
   "cell_type": "markdown",
   "source": [
    "#### Sorting by Value"
   ],
   "metadata": {
    "collapsed": false
   }
  },
  {
   "cell_type": "code",
   "execution_count": 53,
   "outputs": [
    {
     "name": "stdout",
     "output_type": "stream",
     "text": [
      "                   A         B         C         D\n",
      "2019-06-03 -1.054974  0.556775 -0.945219 -0.030295\n",
      "2019-05-28 -0.279572 -0.702492  0.252265  0.958977\n",
      "2019-06-01 -0.185258  0.856520 -0.686285  1.104195\n",
      "2019-05-27 -0.040627  0.067333 -0.452978  0.686223\n",
      "2019-05-31  0.001268  0.951517  2.107360 -0.108726\n",
      "2019-05-30  0.070011 -0.516443 -1.655689  0.246721\n",
      "2019-05-25  0.187497  1.122150 -0.988277 -1.985934\n",
      "2019-05-26  0.360803 -0.562243 -0.340693 -0.986988\n",
      "2019-06-02  0.387023  1.706336 -2.452653  0.260466\n",
      "2019-05-29  0.537438 -1.737568  0.714727 -0.939288\n"
     ]
    }
   ],
   "source": [
    "print(df.sort_values('A', axis=0))"
   ],
   "metadata": {
    "collapsed": false
   }
  },
  {
   "cell_type": "code",
   "execution_count": 54,
   "outputs": [
    {
     "name": "stdout",
     "output_type": "stream",
     "text": [
      "                   C         A         B         D\n",
      "2019-05-25 -0.988277  0.187497  1.122150 -1.985934\n",
      "2019-05-26 -0.340693  0.360803 -0.562243 -0.986988\n",
      "2019-05-27 -0.452978 -0.040627  0.067333  0.686223\n",
      "2019-05-28  0.252265 -0.279572 -0.702492  0.958977\n",
      "2019-05-29  0.714727  0.537438 -1.737568 -0.939288\n",
      "2019-05-30 -1.655689  0.070011 -0.516443  0.246721\n",
      "2019-05-31  2.107360  0.001268  0.951517 -0.108726\n",
      "2019-06-01 -0.686285 -0.185258  0.856520  1.104195\n",
      "2019-06-02 -2.452653  0.387023  1.706336  0.260466\n",
      "2019-06-03 -0.945219 -1.054974  0.556775 -0.030295\n"
     ]
    }
   ],
   "source": [
    "print(df.sort_values('20190601', axis=1))"
   ],
   "metadata": {
    "collapsed": false
   }
  }
 ],
 "metadata": {
  "kernelspec": {
   "display_name": "Python 3",
   "language": "python",
   "name": "python3"
  },
  "language_info": {
   "codemirror_mode": {
    "name": "ipython",
    "version": 2
   },
   "file_extension": ".py",
   "mimetype": "text/x-python",
   "name": "python",
   "nbconvert_exporter": "python",
   "pygments_lexer": "ipython2",
   "version": "2.7.6"
  }
 },
 "nbformat": 4,
 "nbformat_minor": 0
}
